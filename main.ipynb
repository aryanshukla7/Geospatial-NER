{
  "cells": [
    {
      "cell_type": "code",
      "execution_count": 25,
      "metadata": {
        "colab": {
          "base_uri": "https://localhost:8080/"
        },
        "id": "l17WznaGAB5s",
        "outputId": "41c0343e-77e0-4b7b-fde3-85bfc5034c6d"
      },
      "outputs": [
        {
          "output_type": "stream",
          "name": "stdout",
          "text": [
            "Drive already mounted at /content/drive; to attempt to forcibly remount, call drive.mount(\"/content/drive\", force_remount=True).\n"
          ]
        }
      ],
      "source": [
        "from google.colab import drive\n",
        "drive.mount('/content/drive')"
      ]
    },
    {
      "cell_type": "code",
      "execution_count": 26,
      "metadata": {
        "colab": {
          "base_uri": "https://localhost:8080/"
        },
        "id": "8tpW5nkMc53m",
        "outputId": "c287562b-a0c7-4b6f-fe97-820030b815d7"
      },
      "outputs": [
        {
          "output_type": "stream",
          "name": "stdout",
          "text": [
            "Requirement already satisfied: Levenshtein in /usr/local/lib/python3.10/dist-packages (0.23.0)\n",
            "Requirement already satisfied: rapidfuzz<4.0.0,>=3.1.0 in /usr/local/lib/python3.10/dist-packages (from Levenshtein) (3.5.2)\n"
          ]
        }
      ],
      "source": [
        "# Install PySpark and Spark NLP\n",
        "! pip install -q pyspark==3.3.0 spark-nlp==4.2.8\n",
        "!pip install Levenshtein"
      ]
    },
    {
      "cell_type": "code",
      "execution_count": 27,
      "metadata": {
        "id": "lIGUfEtSDbEi"
      },
      "outputs": [],
      "source": [
        "import json\n",
        "import pandas as pd\n",
        "import numpy as np\n",
        "\n",
        "import sparknlp\n",
        "import pyspark.sql.functions as F\n",
        "\n",
        "from pyspark.ml import Pipeline\n",
        "from pyspark.sql import SparkSession\n",
        "from sparknlp.annotator import *\n",
        "from sparknlp.base import *\n",
        "from sparknlp.pretrained import PretrainedPipeline\n",
        "from pyspark.sql.types import StringType, IntegerType\n",
        "from transformers import pipeline\n",
        "import Levenshtein\n",
        "\n",
        "import requests\n",
        "from requests.adapters import HTTPAdapter, Retry"
      ]
    },
    {
      "cell_type": "code",
      "execution_count": 28,
      "metadata": {
        "id": "cbNneAVCLU1y"
      },
      "outputs": [],
      "source": [
        "spark = sparknlp.start()"
      ]
    },
    {
      "cell_type": "code",
      "execution_count": 29,
      "metadata": {
        "colab": {
          "base_uri": "https://localhost:8080/"
        },
        "id": "Gvn2hTw6DbIH",
        "outputId": "4adfa44f-7c93-4d26-a691-0259027e9636"
      },
      "outputs": [
        {
          "output_type": "stream",
          "name": "stdout",
          "text": [
            "bert_token_classifier_hi_en_ner download started this may take some time.\n",
            "Approximate size to download 634.9 MB\n",
            "[OK!]\n"
          ]
        }
      ],
      "source": [
        "document_assembler = DocumentAssembler()\\\n",
        "        .setInputCol('text')\\\n",
        "        .setOutputCol('document')\n",
        "\n",
        "sentence_detector = SentenceDetector() \\\n",
        "        .setInputCols(['document'])\\\n",
        "        .setOutputCol('sentence')\n",
        "\n",
        "tokenizer = Tokenizer()\\\n",
        "        .setInputCols(['sentence']) \\\n",
        "        .setOutputCol('token')\n",
        "\n",
        "tokenClassifier_loaded = BertForTokenClassification.pretrained(\"bert_token_classifier_hi_en_ner\",\"hi\")\\\n",
        "        .setInputCols([\"sentence\",'token'])\\\n",
        "        .setOutputCol(\"ner\")\n",
        "\n",
        "ner_converter = NerConverter()\\\n",
        "        .setInputCols([\"sentence\",\"token\",\"ner\"])\\\n",
        "        .setOutputCol(\"ner_chunk\")\n",
        "\n",
        "nlp_pipeline = Pipeline(stages=[document_assembler,\n",
        "                                sentence_detector,\n",
        "                                tokenizer,\n",
        "                                tokenClassifier_loaded,\n",
        "                                ner_converter])\n",
        "\n",
        "checkpoint = \"/content/drive/MyDrive/Dead_line ISRO/distilbert-finetuned-ner-2/checkpoint-3135\"\n",
        "token_classifier = pipeline(\n",
        "    \"token-classification\", model=checkpoint, aggregation_strategy=\"simple\"\n",
        ")\n",
        "\n",
        "# text_list =[\"\"\"वॉरेन एडवर्ड बफेट (Warren Buffet) (अगस्त 30 (August 30), 1930 को ओमाहा (Omaha), नेब्रास्का (Nebraska) में पैदा हुए) एक अमेरिकी निवेशक (investor), व्यवसायी और परोपकारी (philanthropist) व्यक्तित्व हैं।\"\"\"]\n",
        "\n",
        "# df = spark.createDataFrame(text_list, StringType()).toDF(\"text\")\n",
        "# result = nlp_pipeline.fit(df).transform(df)"
      ]
    },
    {
      "cell_type": "code",
      "execution_count": 30,
      "metadata": {
        "id": "Swe8hQKTokWW"
      },
      "outputs": [],
      "source": [
        "# text_list =[\"Are Jaipur and Ajmer the same state?\"]\n",
        "# text_list = [\"AMong jaipur, Ajmer and Baroda whih of these have a higher population than Surat\"]\n",
        "# text_list = [\"Which has higher average temperature in June, AHmedabad or Gandhinagar\"]\n",
        "# text_list = [\"Where is zebara? is it in amdavad?\"]\n",
        "# text_list = [\"The new england journal of medicine is the best medical journal in the world\"]\n",
        "# text_list = [\"Can I visit new york, mars, sun and delhi on the same day?\"]\n",
        "# text_list = [\"Can I visit new york mars sun and delhi on the same day?\"]\n",
        "# text_list = [\"where can i find lakes near Ahmedabad\"]\n",
        "# text_list = [\"where can I find lakes near Amdavad\"]\n",
        "# text_list = [\"is there water in delli?\"]\n",
        "# text_list = [\"Is it a good time to visit Prince edward island?\"]\n",
        "# text_list = [\"which has higher average temperature in june, ahmedabad or gandhinagar\"]\n",
        "# text_list = [\"Which Has Higher Average Temperature In June, Ahmdvad Or Gandhingr\"]\n",
        "# text_list = [\"temperature at amdavad is high\"]\n",
        "# text_list = [\"The zoo is located in Abc\"]\n",
        "# text_list = [\"The zoo is located in Abc\"]\n",
        "# text_list = [\"अहमदाबाद का तापमान मध्य प्रदेश से भी ज्यादा है\"]\n",
        "# text_list = [\"अमदाबद का तापमान मध्यदेश से भी ज्यादा है\"]\n",
        "# text_list = [\"Name of my daughter is India\"]\n",
        "# text_list = [\"I hate Gujarat but i love faafada\"]\n",
        "# text_list = [\"Anjeer is my favourite\"]\n",
        "# text_list = [\"Farah Went To Kushk\"]\n",
        "# text_list = [\"Temperature At Abc Is Higher Than Temperature at xyz\"]\n",
        "# text_list = [\"Venus has a travel planned to mars\"]\n",
        "# text_list = [\"The dal lake is in sri nagar\"]\n",
        "# text_list = [\"What happened in Tamil Nadu\"]\n"
      ]
    },
    {
      "cell_type": "code",
      "execution_count": 31,
      "metadata": {
        "id": "jkIYifAmJMYS"
      },
      "outputs": [],
      "source": [
        "import codecs,string\n",
        "def is_hindi(character):\n",
        "    maxchar = max(character)\n",
        "    if u'\\u0900' <= maxchar <= u'\\u097f':\n",
        "        return True\n",
        "    else:\n",
        "      return False\n",
        "\n",
        "def findword(text, s, e):\n",
        "  while s>0 and text[s-1] != ' ' and text[s-1] != ',' and text[s-1] != '.' and text[s-1] != '?':\n",
        "    s-=1\n",
        "  while e<len(text) and text[e] != ' ' and text[e] != ',' and text[e] != '.' and text[e] != '?':\n",
        "    e+=1\n",
        "  return text[s:e]\n",
        "\n",
        "def combinedOutput(extracted_list, output, text_list):\n",
        "  namelist1 = {}\n",
        "  # print(extracted_list, output)\n",
        "  for out in extracted_list:\n",
        "    # print(out)\n",
        "    namelist1[out[0].lower()] = out[1]\n",
        "\n",
        "  namelist2 = {}\n",
        "  for out in output:\n",
        "    # if out['score'] > 0.70:\n",
        "      # print(\"printing out\", out)\n",
        "      word = findword(text_list[0].lower(), out['start'], out['end'])\n",
        "      # print(word)\n",
        "      namelist2[word] =  out['score']\n",
        "\n",
        "  # print(namelist2)\n",
        "  # print(namelist1)\n",
        "  result = {}\n",
        "  for place in namelist2.keys():\n",
        "    if is_hindi(place):\n",
        "      continue\n",
        "    if place not in namelist1.keys():\n",
        "      result[place] = \"Looks Like\"\n",
        "\n",
        "    elif namelist1[place] == 'PLACE':\n",
        "      result[place] = \"Certain\"\n",
        "    else:\n",
        "      result[place] = f'{place} occurs in the context of {namelist1[place]} but its name may resemble the name of a place'\n",
        "\n",
        "  for place in namelist1.keys():\n",
        "    if namelist1[place] == 'PLACE' and place not in result.keys():\n",
        "      result[place] = \"Most Likely\"\n",
        "      if len(place.split(' ')) > 1:\n",
        "        for x in place.split(' '):\n",
        "          if x in result.keys():\n",
        "            del result[x]\n",
        "\n",
        "\n",
        "  return result"
      ]
    },
    {
      "cell_type": "code",
      "execution_count": 32,
      "metadata": {
        "id": "9lsRMBgB0OBm"
      },
      "outputs": [],
      "source": [
        "def getNER(text):\n",
        "  text = text.capitalize()\n",
        "  # print(text)\n",
        "  text_list = [text]\n",
        "  df = spark.createDataFrame(text_list, StringType()).toDF(\"text\")\n",
        "  result = nlp_pipeline.fit(df).transform(df)\n",
        "\n",
        "\n",
        "  extracted_result = result.select(F.explode(F.arrays_zip(result.ner_chunk.result, result.ner_chunk.metadata)).alias(\"cols\")) \\\n",
        "    .select(F.expr(\"cols['0']\").alias(\"chunk\"),\n",
        "            F.expr(\"cols['1']['entity']\").alias(\"ner_label\"))\n",
        "  # extracted_result.show(truncate=False)\n",
        "\n",
        "  extracted_list = extracted_result.collect()\n",
        "\n",
        "  checkpoint = \"/content/drive/MyDrive/Dead_line ISRO/distilbert-finetuned-ner-2/checkpoint-3135\"\n",
        "  token_classifier = pipeline(\n",
        "      \"token-classification\", model=checkpoint, aggregation_strategy=\"simple\"\n",
        "  )\n",
        "\n",
        "  output = token_classifier(text_list[0].lower())\n",
        "  # print(extracted_list, output)\n",
        "  answer = combinedOutput(extracted_list, output, text_list)\n",
        "  return answer\n"
      ]
    },
    {
      "cell_type": "code",
      "execution_count": 33,
      "metadata": {
        "colab": {
          "base_uri": "https://localhost:8080/"
        },
        "id": "aCtJ2op21PZs",
        "outputId": "a274c419-8384-49e9-a477-ffb8b39a1da7"
      },
      "outputs": [
        {
          "output_type": "execute_result",
          "data": {
            "text/plain": [
              "{'surat': 'Certain', 'dujrat': 'Certain'}"
            ]
          },
          "metadata": {},
          "execution_count": 33
        }
      ],
      "source": [
        "getNER(\"surat is a city in dujrat\")"
      ]
    },
    {
      "cell_type": "code",
      "execution_count": 34,
      "metadata": {
        "id": "RZr3Anr1q6k1"
      },
      "outputs": [],
      "source": [
        "# The function to find similarity between correctAnswer and userAnswer, based on levenshtein distance\n",
        "def validate_answer_levenshtein(correct_answer, user_answer, threshold=80):\n",
        "    distance = Levenshtein.distance(user_answer.lower(), correct_answer.lower())\n",
        "    similarity = 1 - (distance / max(len(user_answer), len(correct_answer)))\n",
        "    # normalising from [0,1] to [0,100]\n",
        "    return round(100*similarity, 2)"
      ]
    },
    {
      "cell_type": "code",
      "execution_count": 35,
      "metadata": {
        "id": "XiQrxJI_qNxy"
      },
      "outputs": [],
      "source": [
        "def fuzzyMatching(fuzzy_li, universe_of_names):\n",
        "    global_nearest_match_li = []\n",
        "    max_similarity = 0\n",
        "\n",
        "    for word in fuzzy_li:\n",
        "        nearest_match_li = []\n",
        "        n = 0\n",
        "        for checking_word, type_ in universe_of_names:\n",
        "            temp = validate_answer_levenshtein(word, checking_word)\n",
        "            if n == 0:\n",
        "                nearest_match_li.append((checking_word, temp, type_))\n",
        "                n += 1\n",
        "            else:\n",
        "                for i in range(n):\n",
        "                    # print(len(nearest_match_li), n)\n",
        "                    if temp >= nearest_match_li[i][1]:\n",
        "                        nearest_match_li.insert(i, (checking_word, temp, type_))\n",
        "                        n += 1\n",
        "                        break\n",
        "                else:\n",
        "                    nearest_match_li.append((checking_word, temp, type_))\n",
        "                    n += 1\n",
        "            if n == 4:\n",
        "                nearest_match_li = nearest_match_li[:-1]\n",
        "                n -= 1\n",
        "        global_nearest_match_li.append(nearest_match_li)\n",
        "\n",
        "    return global_nearest_match_li"
      ]
    },
    {
      "cell_type": "code",
      "execution_count": 36,
      "metadata": {
        "id": "TgyE9FXu40ew"
      },
      "outputs": [],
      "source": [
        "def fuzzyMatchingPreprocessing():\n",
        "\n",
        "    countries_df = pd.read_csv(\"/content/drive/MyDrive/Dead_line ISRO/Matching Tables/countries.csv\")\n",
        "    states_df = pd.read_csv(\"/content/drive/MyDrive/Dead_line ISRO/Matching Tables/states.csv\")\n",
        "    cities_df = pd.read_csv(\"/content/drive/MyDrive/Dead_line ISRO/Matching Tables/cities.csv\")\n",
        "\n",
        "\n",
        "    n_cities = len(cities_df)\n",
        "    n_states = len(states_df)\n",
        "    n_countries = len(countries_df)\n",
        "\n",
        "    cities_list = [(cities_df.iloc[i][\"name\"].lower(), \"city\") for i in range(n_cities)]\n",
        "    states_list = [(states_df.iloc[i][\"name\"].lower(), \"state\") for i in range(n_states)]\n",
        "    countries_list = [(countries_df.iloc[i][\"name\"].lower(), \"country\") for i in range(n_countries)]\n",
        "\n",
        "    universe_of_names = countries_list + states_list + cities_list\n",
        "    return universe_of_names"
      ]
    },
    {
      "cell_type": "code",
      "execution_count": 36,
      "metadata": {
        "id": "SfIG_TnR5WRG"
      },
      "outputs": [],
      "source": []
    },
    {
      "cell_type": "code",
      "execution_count": 37,
      "metadata": {
        "id": "vwXlmEu8ILK6"
      },
      "outputs": [],
      "source": [
        "def fuzzyMatchingComplete (fuzzy_li, universe_of_names):\n",
        "\n",
        "    final_list = fuzzyMatching(fuzzy_li, universe_of_names)\n",
        "\n",
        "    return final_list"
      ]
    },
    {
      "cell_type": "code",
      "execution_count": 38,
      "metadata": {
        "id": "8Bq6zVDVCSit"
      },
      "outputs": [],
      "source": [
        "def add(word,entity,universe_of_names):\n",
        "  entry = (word.lower(), entity.lower())\n",
        "  if entry in universe_of_names:\n",
        "      print(entry, \" is already present in the database\")\n",
        "  else:\n",
        "      universe_of_names.append(entry)\n",
        "  return universe_of_names\n",
        "\n",
        "def delete(word,entity,universe_of_names):\n",
        "  entry = (word.lower(), entity.lower())\n",
        "  if entry not in universe_of_names:\n",
        "    print(tuple([word,entity.lower()]), \" is not present in the database\")\n",
        "  else:\n",
        "    universe_of_names.remove(entry)\n",
        "  return universe_of_names"
      ]
    },
    {
      "cell_type": "markdown",
      "source": [
        "### Integerating frontend with backend"
      ],
      "metadata": {
        "id": "FHhWEN4RhzX3"
      }
    },
    {
      "cell_type": "code",
      "execution_count": 39,
      "metadata": {
        "id": "si6d5ELgExUm"
      },
      "outputs": [],
      "source": [
        "universe_of_names = fuzzyMatchingPreprocessing()"
      ]
    },
    {
      "cell_type": "code",
      "source": [
        "def take_input():\n",
        "  # for request type\n",
        "  url = 'https://7c12-2401-4900-53f7-cac1-a859-b2de-728a-2545.ngrok-free.app/fetchData'\n",
        "  r = requests.get(url)\n",
        "  # json_data = json.loads()\n",
        "  json_data = str(r.content)[2:-1]\n",
        "  json_data = (json_data.split('\\\\n'))[-1]\n",
        "  return json_data"
      ],
      "metadata": {
        "id": "bVLVSnEohy6H"
      },
      "execution_count": 148,
      "outputs": []
    },
    {
      "cell_type": "code",
      "source": [
        "def give_output(type_, output, o1 = 0, o2 = 0, o3 = 0):\n",
        "    url = 'https://7c12-2401-4900-53f7-cac1-a859-b2de-728a-2545.ngrok-free.app/sendQuery'\n",
        "    headers = {'Content-type': 'application/json'}\n",
        "    # 0 for string\n",
        "    # 1 for dictionary\n",
        "    if type_==0:\n",
        "      json_obj = json.dumps({'0':output})\n",
        "      # json_obj = output\n",
        "    elif type_==1:\n",
        "      li = []\n",
        "      li.append(output)\n",
        "      li.append(o1)\n",
        "      li.append(o2)\n",
        "      li.append(o3)\n",
        "      json_obj = json.dumps({'1':li})\n",
        "    # write code for sending the json object\n",
        "    requests.post(url, json_obj, headers = headers)"
      ],
      "metadata": {
        "id": "rsaXmsXch5n4"
      },
      "execution_count": 149,
      "outputs": []
    },
    {
      "cell_type": "code",
      "source": [
        "# give_output(0, \"Aashray\")\n",
        "entity = {\"w2242\": [\"Aashray\"]}\n",
        "matched_cities = [\"Aryan\"]\n",
        "give_output(1, \"matching places for \", entity, \" are : \", matched_cities[0])"
      ],
      "metadata": {
        "id": "SyAo2lzJzNwy"
      },
      "execution_count": 159,
      "outputs": []
    },
    {
      "cell_type": "code",
      "source": [
        "url = 'https://bccc-2401-4900-53f7-cbda-a270-92ad-7964-5499.ngrok-free.app/fetchData'\n",
        "r = requests.get(url)"
      ],
      "metadata": {
        "id": "btPIPPHWfrSg"
      },
      "execution_count": 70,
      "outputs": []
    },
    {
      "cell_type": "code",
      "source": [
        "print(str(r.content)[2:-1])"
      ],
      "metadata": {
        "colab": {
          "base_uri": "https://localhost:8080/"
        },
        "id": "cEI8EivHuJRE",
        "outputId": "eccd6c03-82df-481b-b163-e32f7c07c978"
      },
      "execution_count": 71,
      "outputs": [
        {
          "output_type": "stream",
          "name": "stdout",
          "text": [
            "jnfwjibgeijw\\nwhat is the temp of jaipur\n"
          ]
        }
      ]
    },
    {
      "cell_type": "code",
      "source": [
        "print(take_input())"
      ],
      "metadata": {
        "colab": {
          "base_uri": "https://localhost:8080/"
        },
        "id": "XRZV33zNwRqi",
        "outputId": "0fe0c472-9554-44bb-d966-cc1c761753f7"
      },
      "execution_count": 156,
      "outputs": [
        {
          "output_type": "stream",
          "name": "stdout",
          "text": [
            "Where is New Delho?\n"
          ]
        }
      ]
    },
    {
      "cell_type": "code",
      "source": [
        "def main(universe_of_names):\n",
        "  while True:\n",
        "    # request_type = input(\"Enter a request type: (Entering sentence: 1, add to database: 2, delete to database: 3), (exit: -1) : \")\n",
        "      # request_type = take_input()\n",
        "      request_type = 1\n",
        "      # print(\"\")\n",
        "      if request_type == '-1':\n",
        "        give_output(0, \"Exiting...\")\n",
        "        # print(\"Exiting...\")\n",
        "        break\n",
        "      elif request_type == '1' :\n",
        "        # user_input = input(\"Enter a sentence (type '-1' to exit): \")\n",
        "        user_input = take_input()\n",
        "        print(user_input)\n",
        "\n",
        "        # Check if the user wants to exit\n",
        "        if user_input == '-1':\n",
        "          # print(\"Exiting...\")\n",
        "          give_output(0, \"Exiting...\")\n",
        "          break\n",
        "\n",
        "        # Call the processing function and display the result\n",
        "        result = getNER(user_input)\n",
        "        # print(f\"Result: {result}\")\n",
        "\n",
        "        matched_cities = fuzzyMatchingComplete(result.keys(), universe_of_names)\n",
        "\n",
        "        # give_output(result) # DO NOT GIVE IN FRONT END\n",
        "        i=0\n",
        "        for entity in result.keys():\n",
        "          give_output(1, \"matching places for \", entity, \" are : \", matched_cities[i])\n",
        "          i+=1\n",
        "      elif request_type == '2':\n",
        "        # user_input = input(\"Enter the name of the place (type '-1' to exit): \")\n",
        "        user_input = take_input()\n",
        "        # user_category = input(\"Enter the type of place(city, state, country)  (type '-1' to exit): \")\n",
        "        user_category = take_input()\n",
        "        if user_input == '-1' or user_category == '-1':\n",
        "          break\n",
        "        universe_of_names = add(user_input, user_category, universe_of_names)\n",
        "\n",
        "      elif request_type == \"3\":\n",
        "        # user_input = input(\"Enter the name of the place  (type '-1' to exit): \")\n",
        "        user_input = take_input()\n",
        "        # user_category = input(\"Enter the type of place(city, state, country)  (type '-1' to exit): \")\n",
        "        user_category = take_input()\n",
        "        if user_input == '-1' or user_category == '-1':\n",
        "          break\n",
        "        universe_of_names = delete(user_input, user_category, universe_of_names)\n",
        "      else:\n",
        "        give_output(0, \"Please enter a valid input\")"
      ],
      "metadata": {
        "id": "ClEGtWbs1LEM"
      },
      "execution_count": 150,
      "outputs": []
    },
    {
      "cell_type": "code",
      "execution_count": 120,
      "metadata": {
        "id": "8gHLWIL3I04x"
      },
      "outputs": [],
      "source": [
        "def main(universe_of_names):\n",
        "  while True:\n",
        "    # request_type = input(\"Enter a request type: (Entering sentence: 1, add to database: 2, delete to database: 3), (exit: -1) : \")\n",
        "      request_type = take_input()\n",
        "      # print(\"\")\n",
        "      if request_type == '-1':\n",
        "        give_output(0, \"Exiting...\")\n",
        "        # print(\"Exiting...\")\n",
        "        break\n",
        "      elif request_type == '1' :\n",
        "        # user_input = input(\"Enter a sentence (type '-1' to exit): \")\n",
        "        user_input = take_input()\n",
        "\n",
        "        # Check if the user wants to exit\n",
        "        if user_input == '-1':\n",
        "          # print(\"Exiting...\")\n",
        "          give_output(0, \"Exiting...\")\n",
        "          break\n",
        "\n",
        "        # Call the processing function and display the result\n",
        "        result = getNER(user_input)\n",
        "        # print(f\"Result: {result}\")\n",
        "\n",
        "        matched_cities = fuzzyMatchingComplete(result.keys(), universe_of_names)\n",
        "\n",
        "        # give_output(result) # DO NOT GIVE IN FRONT END\n",
        "        i=0\n",
        "        for entity in result.keys():\n",
        "          give_output(1, \"matching places for \", entity, \" are : \", matched_cities[i])\n",
        "          i+=1\n",
        "      elif request_type == '2':\n",
        "        # user_input = input(\"Enter the name of the place (type '-1' to exit): \")\n",
        "        user_input = take_input()\n",
        "        # user_category = input(\"Enter the type of place(city, state, country)  (type '-1' to exit): \")\n",
        "        user_category = take_input()\n",
        "        if user_input == '-1' or user_category == '-1':\n",
        "          break\n",
        "        universe_of_names = add(user_input, user_category, universe_of_names)\n",
        "\n",
        "      elif request_type == \"3\":\n",
        "        # user_input = input(\"Enter the name of the place  (type '-1' to exit): \")\n",
        "        user_input = take_input()\n",
        "        # user_category = input(\"Enter the type of place(city, state, country)  (type '-1' to exit): \")\n",
        "        user_category = take_input()\n",
        "        if user_input == '-1' or user_category == '-1':\n",
        "          break\n",
        "        universe_of_names = delete(user_input, user_category, universe_of_names)\n",
        "      else:\n",
        "        give_output(0, \"Please enter a valid input\")"
      ]
    },
    {
      "cell_type": "code",
      "source": [
        "def main(universe_of_names):\n",
        "  while True:\n",
        "      # Take input from the user\n",
        "      print(\"\")\n",
        "\n",
        "      request_type = input(\"Enter a request type: (Entering sentence: 1, add to database: 2, delete to database: 3), (exit: -1) : \")\n",
        "      print(\"\")\n",
        "      if request_type == '-1':\n",
        "            print(\"Exiting...\")\n",
        "            break\n",
        "      elif request_type == '1' :\n",
        "        user_input = input(\"Enter a sentence (type '-1' to exit): \")\n",
        "\n",
        "        # Check if the user wants to exit\n",
        "        if user_input == '-1':\n",
        "            print(\"Exiting...\")\n",
        "            break\n",
        "\n",
        "        # Call the processing function and display the result\n",
        "        result = getNER(user_input)\n",
        "        # print(f\"Result: {result}\")\n",
        "\n",
        "        matched_cities = fuzzyMatchingComplete(result.keys(), universe_of_names)\n",
        "\n",
        "        print(\"*****\")\n",
        "        print(result)\n",
        "        print()\n",
        "        i=0\n",
        "        for entity in result.keys():\n",
        "          print(\"matching places for \", entity, \" are : \", matched_cities[i])\n",
        "          i+=1\n",
        "          print()\n",
        "      elif request_type == '2':\n",
        "        user_input = input(\"Enter the name of the place (type '-1' to exit): \")\n",
        "        print(\"\")\n",
        "        user_category = input(\"Enter the type of place(city, state, country)  (type '-1' to exit): \")\n",
        "        print(\"\")\n",
        "        if user_input == '-1' or user_category == '-1':\n",
        "          break\n",
        "        universe_of_names = add(user_input, user_category, universe_of_names)\n",
        "\n",
        "      elif request_type == \"3\":\n",
        "        user_input = input(\"Enter the name of the place  (type '-1' to exit): \")\n",
        "        print(\"\")\n",
        "        user_category = input(\"Enter the type of place(city, state, country)  (type '-1' to exit): \")\n",
        "        print(\"\")\n",
        "        if user_input == '-1' or user_category == '-1':\n",
        "          break\n",
        "        universe_of_names = delete(user_input, user_category, universe_of_names)\n",
        "      else:\n",
        "        print(\"Please enter a valid input\")"
      ],
      "metadata": {
        "id": "vyo_eF3gmKNz"
      },
      "execution_count": 43,
      "outputs": []
    },
    {
      "cell_type": "code",
      "execution_count": 154,
      "metadata": {
        "colab": {
          "base_uri": "https://localhost:8080/",
          "height": 321
        },
        "id": "DZ8b2vFK09qo",
        "outputId": "d6a59b3e-65d3-4118-85fc-7c6f5f915282"
      },
      "outputs": [
        {
          "output_type": "error",
          "ename": "KeyboardInterrupt",
          "evalue": "ignored",
          "traceback": [
            "\u001b[0;31m---------------------------------------------------------------------------\u001b[0m",
            "\u001b[0;31mKeyboardInterrupt\u001b[0m                         Traceback (most recent call last)",
            "\u001b[0;32m<ipython-input-154-18213b388a1e>\u001b[0m in \u001b[0;36m<cell line: 1>\u001b[0;34m()\u001b[0m\n\u001b[0;32m----> 1\u001b[0;31m \u001b[0mmain\u001b[0m\u001b[0;34m(\u001b[0m\u001b[0muniverse_of_names\u001b[0m\u001b[0;34m)\u001b[0m\u001b[0;34m\u001b[0m\u001b[0;34m\u001b[0m\u001b[0m\n\u001b[0m",
            "\u001b[0;32m<ipython-input-150-753dcd22d037>\u001b[0m in \u001b[0;36mmain\u001b[0;34m(universe_of_names)\u001b[0m\n\u001b[1;32m     49\u001b[0m         \u001b[0muniverse_of_names\u001b[0m \u001b[0;34m=\u001b[0m \u001b[0mdelete\u001b[0m\u001b[0;34m(\u001b[0m\u001b[0muser_input\u001b[0m\u001b[0;34m,\u001b[0m \u001b[0muser_category\u001b[0m\u001b[0;34m,\u001b[0m \u001b[0muniverse_of_names\u001b[0m\u001b[0;34m)\u001b[0m\u001b[0;34m\u001b[0m\u001b[0;34m\u001b[0m\u001b[0m\n\u001b[1;32m     50\u001b[0m       \u001b[0;32melse\u001b[0m\u001b[0;34m:\u001b[0m\u001b[0;34m\u001b[0m\u001b[0;34m\u001b[0m\u001b[0m\n\u001b[0;32m---> 51\u001b[0;31m         \u001b[0mgive_output\u001b[0m\u001b[0;34m(\u001b[0m\u001b[0;36m0\u001b[0m\u001b[0;34m,\u001b[0m \u001b[0;34m\"Please enter a valid input\"\u001b[0m\u001b[0;34m)\u001b[0m\u001b[0;34m\u001b[0m\u001b[0;34m\u001b[0m\u001b[0m\n\u001b[0m",
            "\u001b[0;32m<ipython-input-149-c339a38931e3>\u001b[0m in \u001b[0;36mgive_output\u001b[0;34m(type_, output, o1, o2, o3)\u001b[0m\n\u001b[1;32m     15\u001b[0m       \u001b[0mjson_obj\u001b[0m \u001b[0;34m=\u001b[0m \u001b[0mjson\u001b[0m\u001b[0;34m.\u001b[0m\u001b[0mdumps\u001b[0m\u001b[0;34m(\u001b[0m\u001b[0;34m{\u001b[0m\u001b[0;34m'1'\u001b[0m\u001b[0;34m:\u001b[0m\u001b[0mli\u001b[0m\u001b[0;34m}\u001b[0m\u001b[0;34m)\u001b[0m\u001b[0;34m\u001b[0m\u001b[0;34m\u001b[0m\u001b[0m\n\u001b[1;32m     16\u001b[0m     \u001b[0;31m# write code for sending the json object\u001b[0m\u001b[0;34m\u001b[0m\u001b[0;34m\u001b[0m\u001b[0m\n\u001b[0;32m---> 17\u001b[0;31m     \u001b[0mrequests\u001b[0m\u001b[0;34m.\u001b[0m\u001b[0mpost\u001b[0m\u001b[0;34m(\u001b[0m\u001b[0murl\u001b[0m\u001b[0;34m,\u001b[0m \u001b[0mjson_obj\u001b[0m\u001b[0;34m,\u001b[0m \u001b[0mheaders\u001b[0m \u001b[0;34m=\u001b[0m \u001b[0mheaders\u001b[0m\u001b[0;34m)\u001b[0m\u001b[0;34m\u001b[0m\u001b[0;34m\u001b[0m\u001b[0m\n\u001b[0m",
            "\u001b[0;32m/usr/local/lib/python3.10/dist-packages/requests/api.py\u001b[0m in \u001b[0;36mpost\u001b[0;34m(url, data, json, **kwargs)\u001b[0m\n\u001b[1;32m    113\u001b[0m     \"\"\"\n\u001b[1;32m    114\u001b[0m \u001b[0;34m\u001b[0m\u001b[0m\n\u001b[0;32m--> 115\u001b[0;31m     \u001b[0;32mreturn\u001b[0m \u001b[0mrequest\u001b[0m\u001b[0;34m(\u001b[0m\u001b[0;34m\"post\"\u001b[0m\u001b[0;34m,\u001b[0m \u001b[0murl\u001b[0m\u001b[0;34m,\u001b[0m \u001b[0mdata\u001b[0m\u001b[0;34m=\u001b[0m\u001b[0mdata\u001b[0m\u001b[0;34m,\u001b[0m \u001b[0mjson\u001b[0m\u001b[0;34m=\u001b[0m\u001b[0mjson\u001b[0m\u001b[0;34m,\u001b[0m \u001b[0;34m**\u001b[0m\u001b[0mkwargs\u001b[0m\u001b[0;34m)\u001b[0m\u001b[0;34m\u001b[0m\u001b[0;34m\u001b[0m\u001b[0m\n\u001b[0m\u001b[1;32m    116\u001b[0m \u001b[0;34m\u001b[0m\u001b[0m\n\u001b[1;32m    117\u001b[0m \u001b[0;34m\u001b[0m\u001b[0m\n",
            "\u001b[0;32m/usr/local/lib/python3.10/dist-packages/requests/api.py\u001b[0m in \u001b[0;36mrequest\u001b[0;34m(method, url, **kwargs)\u001b[0m\n\u001b[1;32m     57\u001b[0m     \u001b[0;31m# cases, and look like a memory leak in others.\u001b[0m\u001b[0;34m\u001b[0m\u001b[0;34m\u001b[0m\u001b[0m\n\u001b[1;32m     58\u001b[0m     \u001b[0;32mwith\u001b[0m \u001b[0msessions\u001b[0m\u001b[0;34m.\u001b[0m\u001b[0mSession\u001b[0m\u001b[0;34m(\u001b[0m\u001b[0;34m)\u001b[0m \u001b[0;32mas\u001b[0m \u001b[0msession\u001b[0m\u001b[0;34m:\u001b[0m\u001b[0;34m\u001b[0m\u001b[0;34m\u001b[0m\u001b[0m\n\u001b[0;32m---> 59\u001b[0;31m         \u001b[0;32mreturn\u001b[0m \u001b[0msession\u001b[0m\u001b[0;34m.\u001b[0m\u001b[0mrequest\u001b[0m\u001b[0;34m(\u001b[0m\u001b[0mmethod\u001b[0m\u001b[0;34m=\u001b[0m\u001b[0mmethod\u001b[0m\u001b[0;34m,\u001b[0m \u001b[0murl\u001b[0m\u001b[0;34m=\u001b[0m\u001b[0murl\u001b[0m\u001b[0;34m,\u001b[0m \u001b[0;34m**\u001b[0m\u001b[0mkwargs\u001b[0m\u001b[0;34m)\u001b[0m\u001b[0;34m\u001b[0m\u001b[0;34m\u001b[0m\u001b[0m\n\u001b[0m\u001b[1;32m     60\u001b[0m \u001b[0;34m\u001b[0m\u001b[0m\n\u001b[1;32m     61\u001b[0m \u001b[0;34m\u001b[0m\u001b[0m\n",
            "\u001b[0;32m/usr/local/lib/python3.10/dist-packages/requests/sessions.py\u001b[0m in \u001b[0;36mrequest\u001b[0;34m(self, method, url, params, data, headers, cookies, files, auth, timeout, allow_redirects, proxies, hooks, stream, verify, cert, json)\u001b[0m\n\u001b[1;32m    587\u001b[0m         }\n\u001b[1;32m    588\u001b[0m         \u001b[0msend_kwargs\u001b[0m\u001b[0;34m.\u001b[0m\u001b[0mupdate\u001b[0m\u001b[0;34m(\u001b[0m\u001b[0msettings\u001b[0m\u001b[0;34m)\u001b[0m\u001b[0;34m\u001b[0m\u001b[0;34m\u001b[0m\u001b[0m\n\u001b[0;32m--> 589\u001b[0;31m         \u001b[0mresp\u001b[0m \u001b[0;34m=\u001b[0m \u001b[0mself\u001b[0m\u001b[0;34m.\u001b[0m\u001b[0msend\u001b[0m\u001b[0;34m(\u001b[0m\u001b[0mprep\u001b[0m\u001b[0;34m,\u001b[0m \u001b[0;34m**\u001b[0m\u001b[0msend_kwargs\u001b[0m\u001b[0;34m)\u001b[0m\u001b[0;34m\u001b[0m\u001b[0;34m\u001b[0m\u001b[0m\n\u001b[0m\u001b[1;32m    590\u001b[0m \u001b[0;34m\u001b[0m\u001b[0m\n\u001b[1;32m    591\u001b[0m         \u001b[0;32mreturn\u001b[0m \u001b[0mresp\u001b[0m\u001b[0;34m\u001b[0m\u001b[0;34m\u001b[0m\u001b[0m\n",
            "\u001b[0;32m/usr/local/lib/python3.10/dist-packages/requests/sessions.py\u001b[0m in \u001b[0;36msend\u001b[0;34m(self, request, **kwargs)\u001b[0m\n\u001b[1;32m    701\u001b[0m \u001b[0;34m\u001b[0m\u001b[0m\n\u001b[1;32m    702\u001b[0m         \u001b[0;31m# Send the request\u001b[0m\u001b[0;34m\u001b[0m\u001b[0;34m\u001b[0m\u001b[0m\n\u001b[0;32m--> 703\u001b[0;31m         \u001b[0mr\u001b[0m \u001b[0;34m=\u001b[0m \u001b[0madapter\u001b[0m\u001b[0;34m.\u001b[0m\u001b[0msend\u001b[0m\u001b[0;34m(\u001b[0m\u001b[0mrequest\u001b[0m\u001b[0;34m,\u001b[0m \u001b[0;34m**\u001b[0m\u001b[0mkwargs\u001b[0m\u001b[0;34m)\u001b[0m\u001b[0;34m\u001b[0m\u001b[0;34m\u001b[0m\u001b[0m\n\u001b[0m\u001b[1;32m    704\u001b[0m \u001b[0;34m\u001b[0m\u001b[0m\n\u001b[1;32m    705\u001b[0m         \u001b[0;31m# Total elapsed time of the request (approximately)\u001b[0m\u001b[0;34m\u001b[0m\u001b[0;34m\u001b[0m\u001b[0m\n",
            "\u001b[0;32m/usr/local/lib/python3.10/dist-packages/requests/adapters.py\u001b[0m in \u001b[0;36msend\u001b[0;34m(self, request, stream, timeout, verify, cert, proxies)\u001b[0m\n\u001b[1;32m    484\u001b[0m \u001b[0;34m\u001b[0m\u001b[0m\n\u001b[1;32m    485\u001b[0m         \u001b[0;32mtry\u001b[0m\u001b[0;34m:\u001b[0m\u001b[0;34m\u001b[0m\u001b[0;34m\u001b[0m\u001b[0m\n\u001b[0;32m--> 486\u001b[0;31m             resp = conn.urlopen(\n\u001b[0m\u001b[1;32m    487\u001b[0m                 \u001b[0mmethod\u001b[0m\u001b[0;34m=\u001b[0m\u001b[0mrequest\u001b[0m\u001b[0;34m.\u001b[0m\u001b[0mmethod\u001b[0m\u001b[0;34m,\u001b[0m\u001b[0;34m\u001b[0m\u001b[0;34m\u001b[0m\u001b[0m\n\u001b[1;32m    488\u001b[0m                 \u001b[0murl\u001b[0m\u001b[0;34m=\u001b[0m\u001b[0murl\u001b[0m\u001b[0;34m,\u001b[0m\u001b[0;34m\u001b[0m\u001b[0;34m\u001b[0m\u001b[0m\n",
            "\u001b[0;32m/usr/local/lib/python3.10/dist-packages/urllib3/connectionpool.py\u001b[0m in \u001b[0;36murlopen\u001b[0;34m(self, method, url, body, headers, retries, redirect, assert_same_host, timeout, pool_timeout, release_conn, chunked, body_pos, preload_content, decode_content, **response_kw)\u001b[0m\n\u001b[1;32m    789\u001b[0m \u001b[0;34m\u001b[0m\u001b[0m\n\u001b[1;32m    790\u001b[0m             \u001b[0;31m# Make the request on the HTTPConnection object\u001b[0m\u001b[0;34m\u001b[0m\u001b[0;34m\u001b[0m\u001b[0m\n\u001b[0;32m--> 791\u001b[0;31m             response = self._make_request(\n\u001b[0m\u001b[1;32m    792\u001b[0m                 \u001b[0mconn\u001b[0m\u001b[0;34m,\u001b[0m\u001b[0;34m\u001b[0m\u001b[0;34m\u001b[0m\u001b[0m\n\u001b[1;32m    793\u001b[0m                 \u001b[0mmethod\u001b[0m\u001b[0;34m,\u001b[0m\u001b[0;34m\u001b[0m\u001b[0;34m\u001b[0m\u001b[0m\n",
            "\u001b[0;32m/usr/local/lib/python3.10/dist-packages/urllib3/connectionpool.py\u001b[0m in \u001b[0;36m_make_request\u001b[0;34m(self, conn, method, url, body, headers, retries, timeout, chunked, response_conn, preload_content, decode_content, enforce_content_length)\u001b[0m\n\u001b[1;32m    535\u001b[0m         \u001b[0;31m# Receive the response from the server\u001b[0m\u001b[0;34m\u001b[0m\u001b[0;34m\u001b[0m\u001b[0m\n\u001b[1;32m    536\u001b[0m         \u001b[0;32mtry\u001b[0m\u001b[0;34m:\u001b[0m\u001b[0;34m\u001b[0m\u001b[0;34m\u001b[0m\u001b[0m\n\u001b[0;32m--> 537\u001b[0;31m             \u001b[0mresponse\u001b[0m \u001b[0;34m=\u001b[0m \u001b[0mconn\u001b[0m\u001b[0;34m.\u001b[0m\u001b[0mgetresponse\u001b[0m\u001b[0;34m(\u001b[0m\u001b[0;34m)\u001b[0m\u001b[0;34m\u001b[0m\u001b[0;34m\u001b[0m\u001b[0m\n\u001b[0m\u001b[1;32m    538\u001b[0m         \u001b[0;32mexcept\u001b[0m \u001b[0;34m(\u001b[0m\u001b[0mBaseSSLError\u001b[0m\u001b[0;34m,\u001b[0m \u001b[0mOSError\u001b[0m\u001b[0;34m)\u001b[0m \u001b[0;32mas\u001b[0m \u001b[0me\u001b[0m\u001b[0;34m:\u001b[0m\u001b[0;34m\u001b[0m\u001b[0;34m\u001b[0m\u001b[0m\n\u001b[1;32m    539\u001b[0m             \u001b[0mself\u001b[0m\u001b[0;34m.\u001b[0m\u001b[0m_raise_timeout\u001b[0m\u001b[0;34m(\u001b[0m\u001b[0merr\u001b[0m\u001b[0;34m=\u001b[0m\u001b[0me\u001b[0m\u001b[0;34m,\u001b[0m \u001b[0murl\u001b[0m\u001b[0;34m=\u001b[0m\u001b[0murl\u001b[0m\u001b[0;34m,\u001b[0m \u001b[0mtimeout_value\u001b[0m\u001b[0;34m=\u001b[0m\u001b[0mread_timeout\u001b[0m\u001b[0;34m)\u001b[0m\u001b[0;34m\u001b[0m\u001b[0;34m\u001b[0m\u001b[0m\n",
            "\u001b[0;32m/usr/local/lib/python3.10/dist-packages/urllib3/connection.py\u001b[0m in \u001b[0;36mgetresponse\u001b[0;34m(self)\u001b[0m\n\u001b[1;32m    459\u001b[0m \u001b[0;34m\u001b[0m\u001b[0m\n\u001b[1;32m    460\u001b[0m         \u001b[0;31m# Get the response from http.client.HTTPConnection\u001b[0m\u001b[0;34m\u001b[0m\u001b[0;34m\u001b[0m\u001b[0m\n\u001b[0;32m--> 461\u001b[0;31m         \u001b[0mhttplib_response\u001b[0m \u001b[0;34m=\u001b[0m \u001b[0msuper\u001b[0m\u001b[0;34m(\u001b[0m\u001b[0;34m)\u001b[0m\u001b[0;34m.\u001b[0m\u001b[0mgetresponse\u001b[0m\u001b[0;34m(\u001b[0m\u001b[0;34m)\u001b[0m\u001b[0;34m\u001b[0m\u001b[0;34m\u001b[0m\u001b[0m\n\u001b[0m\u001b[1;32m    462\u001b[0m \u001b[0;34m\u001b[0m\u001b[0m\n\u001b[1;32m    463\u001b[0m         \u001b[0;32mtry\u001b[0m\u001b[0;34m:\u001b[0m\u001b[0;34m\u001b[0m\u001b[0;34m\u001b[0m\u001b[0m\n",
            "\u001b[0;32m/usr/lib/python3.10/http/client.py\u001b[0m in \u001b[0;36mgetresponse\u001b[0;34m(self)\u001b[0m\n\u001b[1;32m   1373\u001b[0m         \u001b[0;32mtry\u001b[0m\u001b[0;34m:\u001b[0m\u001b[0;34m\u001b[0m\u001b[0;34m\u001b[0m\u001b[0m\n\u001b[1;32m   1374\u001b[0m             \u001b[0;32mtry\u001b[0m\u001b[0;34m:\u001b[0m\u001b[0;34m\u001b[0m\u001b[0;34m\u001b[0m\u001b[0m\n\u001b[0;32m-> 1375\u001b[0;31m                 \u001b[0mresponse\u001b[0m\u001b[0;34m.\u001b[0m\u001b[0mbegin\u001b[0m\u001b[0;34m(\u001b[0m\u001b[0;34m)\u001b[0m\u001b[0;34m\u001b[0m\u001b[0;34m\u001b[0m\u001b[0m\n\u001b[0m\u001b[1;32m   1376\u001b[0m             \u001b[0;32mexcept\u001b[0m \u001b[0mConnectionError\u001b[0m\u001b[0;34m:\u001b[0m\u001b[0;34m\u001b[0m\u001b[0;34m\u001b[0m\u001b[0m\n\u001b[1;32m   1377\u001b[0m                 \u001b[0mself\u001b[0m\u001b[0;34m.\u001b[0m\u001b[0mclose\u001b[0m\u001b[0;34m(\u001b[0m\u001b[0;34m)\u001b[0m\u001b[0;34m\u001b[0m\u001b[0;34m\u001b[0m\u001b[0m\n",
            "\u001b[0;32m/usr/lib/python3.10/http/client.py\u001b[0m in \u001b[0;36mbegin\u001b[0;34m(self)\u001b[0m\n\u001b[1;32m    316\u001b[0m         \u001b[0;31m# read until we get a non-100 response\u001b[0m\u001b[0;34m\u001b[0m\u001b[0;34m\u001b[0m\u001b[0m\n\u001b[1;32m    317\u001b[0m         \u001b[0;32mwhile\u001b[0m \u001b[0;32mTrue\u001b[0m\u001b[0;34m:\u001b[0m\u001b[0;34m\u001b[0m\u001b[0;34m\u001b[0m\u001b[0m\n\u001b[0;32m--> 318\u001b[0;31m             \u001b[0mversion\u001b[0m\u001b[0;34m,\u001b[0m \u001b[0mstatus\u001b[0m\u001b[0;34m,\u001b[0m \u001b[0mreason\u001b[0m \u001b[0;34m=\u001b[0m \u001b[0mself\u001b[0m\u001b[0;34m.\u001b[0m\u001b[0m_read_status\u001b[0m\u001b[0;34m(\u001b[0m\u001b[0;34m)\u001b[0m\u001b[0;34m\u001b[0m\u001b[0;34m\u001b[0m\u001b[0m\n\u001b[0m\u001b[1;32m    319\u001b[0m             \u001b[0;32mif\u001b[0m \u001b[0mstatus\u001b[0m \u001b[0;34m!=\u001b[0m \u001b[0mCONTINUE\u001b[0m\u001b[0;34m:\u001b[0m\u001b[0;34m\u001b[0m\u001b[0;34m\u001b[0m\u001b[0m\n\u001b[1;32m    320\u001b[0m                 \u001b[0;32mbreak\u001b[0m\u001b[0;34m\u001b[0m\u001b[0;34m\u001b[0m\u001b[0m\n",
            "\u001b[0;32m/usr/lib/python3.10/http/client.py\u001b[0m in \u001b[0;36m_read_status\u001b[0;34m(self)\u001b[0m\n\u001b[1;32m    277\u001b[0m \u001b[0;34m\u001b[0m\u001b[0m\n\u001b[1;32m    278\u001b[0m     \u001b[0;32mdef\u001b[0m \u001b[0m_read_status\u001b[0m\u001b[0;34m(\u001b[0m\u001b[0mself\u001b[0m\u001b[0;34m)\u001b[0m\u001b[0;34m:\u001b[0m\u001b[0;34m\u001b[0m\u001b[0;34m\u001b[0m\u001b[0m\n\u001b[0;32m--> 279\u001b[0;31m         \u001b[0mline\u001b[0m \u001b[0;34m=\u001b[0m \u001b[0mstr\u001b[0m\u001b[0;34m(\u001b[0m\u001b[0mself\u001b[0m\u001b[0;34m.\u001b[0m\u001b[0mfp\u001b[0m\u001b[0;34m.\u001b[0m\u001b[0mreadline\u001b[0m\u001b[0;34m(\u001b[0m\u001b[0m_MAXLINE\u001b[0m \u001b[0;34m+\u001b[0m \u001b[0;36m1\u001b[0m\u001b[0;34m)\u001b[0m\u001b[0;34m,\u001b[0m \u001b[0;34m\"iso-8859-1\"\u001b[0m\u001b[0;34m)\u001b[0m\u001b[0;34m\u001b[0m\u001b[0;34m\u001b[0m\u001b[0m\n\u001b[0m\u001b[1;32m    280\u001b[0m         \u001b[0;32mif\u001b[0m \u001b[0mlen\u001b[0m\u001b[0;34m(\u001b[0m\u001b[0mline\u001b[0m\u001b[0;34m)\u001b[0m \u001b[0;34m>\u001b[0m \u001b[0m_MAXLINE\u001b[0m\u001b[0;34m:\u001b[0m\u001b[0;34m\u001b[0m\u001b[0;34m\u001b[0m\u001b[0m\n\u001b[1;32m    281\u001b[0m             \u001b[0;32mraise\u001b[0m \u001b[0mLineTooLong\u001b[0m\u001b[0;34m(\u001b[0m\u001b[0;34m\"status line\"\u001b[0m\u001b[0;34m)\u001b[0m\u001b[0;34m\u001b[0m\u001b[0;34m\u001b[0m\u001b[0m\n",
            "\u001b[0;32m/usr/lib/python3.10/socket.py\u001b[0m in \u001b[0;36mreadinto\u001b[0;34m(self, b)\u001b[0m\n\u001b[1;32m    703\u001b[0m         \u001b[0;32mwhile\u001b[0m \u001b[0;32mTrue\u001b[0m\u001b[0;34m:\u001b[0m\u001b[0;34m\u001b[0m\u001b[0;34m\u001b[0m\u001b[0m\n\u001b[1;32m    704\u001b[0m             \u001b[0;32mtry\u001b[0m\u001b[0;34m:\u001b[0m\u001b[0;34m\u001b[0m\u001b[0;34m\u001b[0m\u001b[0m\n\u001b[0;32m--> 705\u001b[0;31m                 \u001b[0;32mreturn\u001b[0m \u001b[0mself\u001b[0m\u001b[0;34m.\u001b[0m\u001b[0m_sock\u001b[0m\u001b[0;34m.\u001b[0m\u001b[0mrecv_into\u001b[0m\u001b[0;34m(\u001b[0m\u001b[0mb\u001b[0m\u001b[0;34m)\u001b[0m\u001b[0;34m\u001b[0m\u001b[0;34m\u001b[0m\u001b[0m\n\u001b[0m\u001b[1;32m    706\u001b[0m             \u001b[0;32mexcept\u001b[0m \u001b[0mtimeout\u001b[0m\u001b[0;34m:\u001b[0m\u001b[0;34m\u001b[0m\u001b[0;34m\u001b[0m\u001b[0m\n\u001b[1;32m    707\u001b[0m                 \u001b[0mself\u001b[0m\u001b[0;34m.\u001b[0m\u001b[0m_timeout_occurred\u001b[0m \u001b[0;34m=\u001b[0m \u001b[0;32mTrue\u001b[0m\u001b[0;34m\u001b[0m\u001b[0;34m\u001b[0m\u001b[0m\n",
            "\u001b[0;32m/usr/lib/python3.10/ssl.py\u001b[0m in \u001b[0;36mrecv_into\u001b[0;34m(self, buffer, nbytes, flags)\u001b[0m\n\u001b[1;32m   1301\u001b[0m                   \u001b[0;34m\"non-zero flags not allowed in calls to recv_into() on %s\"\u001b[0m \u001b[0;34m%\u001b[0m\u001b[0;34m\u001b[0m\u001b[0;34m\u001b[0m\u001b[0m\n\u001b[1;32m   1302\u001b[0m                   self.__class__)\n\u001b[0;32m-> 1303\u001b[0;31m             \u001b[0;32mreturn\u001b[0m \u001b[0mself\u001b[0m\u001b[0;34m.\u001b[0m\u001b[0mread\u001b[0m\u001b[0;34m(\u001b[0m\u001b[0mnbytes\u001b[0m\u001b[0;34m,\u001b[0m \u001b[0mbuffer\u001b[0m\u001b[0;34m)\u001b[0m\u001b[0;34m\u001b[0m\u001b[0;34m\u001b[0m\u001b[0m\n\u001b[0m\u001b[1;32m   1304\u001b[0m         \u001b[0;32melse\u001b[0m\u001b[0;34m:\u001b[0m\u001b[0;34m\u001b[0m\u001b[0;34m\u001b[0m\u001b[0m\n\u001b[1;32m   1305\u001b[0m             \u001b[0;32mreturn\u001b[0m \u001b[0msuper\u001b[0m\u001b[0;34m(\u001b[0m\u001b[0;34m)\u001b[0m\u001b[0;34m.\u001b[0m\u001b[0mrecv_into\u001b[0m\u001b[0;34m(\u001b[0m\u001b[0mbuffer\u001b[0m\u001b[0;34m,\u001b[0m \u001b[0mnbytes\u001b[0m\u001b[0;34m,\u001b[0m \u001b[0mflags\u001b[0m\u001b[0;34m)\u001b[0m\u001b[0;34m\u001b[0m\u001b[0;34m\u001b[0m\u001b[0m\n",
            "\u001b[0;32m/usr/lib/python3.10/ssl.py\u001b[0m in \u001b[0;36mread\u001b[0;34m(self, len, buffer)\u001b[0m\n\u001b[1;32m   1157\u001b[0m         \u001b[0;32mtry\u001b[0m\u001b[0;34m:\u001b[0m\u001b[0;34m\u001b[0m\u001b[0;34m\u001b[0m\u001b[0m\n\u001b[1;32m   1158\u001b[0m             \u001b[0;32mif\u001b[0m \u001b[0mbuffer\u001b[0m \u001b[0;32mis\u001b[0m \u001b[0;32mnot\u001b[0m \u001b[0;32mNone\u001b[0m\u001b[0;34m:\u001b[0m\u001b[0;34m\u001b[0m\u001b[0;34m\u001b[0m\u001b[0m\n\u001b[0;32m-> 1159\u001b[0;31m                 \u001b[0;32mreturn\u001b[0m \u001b[0mself\u001b[0m\u001b[0;34m.\u001b[0m\u001b[0m_sslobj\u001b[0m\u001b[0;34m.\u001b[0m\u001b[0mread\u001b[0m\u001b[0;34m(\u001b[0m\u001b[0mlen\u001b[0m\u001b[0;34m,\u001b[0m \u001b[0mbuffer\u001b[0m\u001b[0;34m)\u001b[0m\u001b[0;34m\u001b[0m\u001b[0;34m\u001b[0m\u001b[0m\n\u001b[0m\u001b[1;32m   1160\u001b[0m             \u001b[0;32melse\u001b[0m\u001b[0;34m:\u001b[0m\u001b[0;34m\u001b[0m\u001b[0;34m\u001b[0m\u001b[0m\n\u001b[1;32m   1161\u001b[0m                 \u001b[0;32mreturn\u001b[0m \u001b[0mself\u001b[0m\u001b[0;34m.\u001b[0m\u001b[0m_sslobj\u001b[0m\u001b[0;34m.\u001b[0m\u001b[0mread\u001b[0m\u001b[0;34m(\u001b[0m\u001b[0mlen\u001b[0m\u001b[0;34m)\u001b[0m\u001b[0;34m\u001b[0m\u001b[0;34m\u001b[0m\u001b[0m\n",
            "\u001b[0;31mKeyboardInterrupt\u001b[0m: "
          ]
        }
      ],
      "source": [
        "main(universe_of_names)"
      ]
    },
    {
      "cell_type": "code",
      "execution_count": null,
      "metadata": {
        "id": "7UGVMKWRbf-I"
      },
      "outputs": [],
      "source": [
        "x = json.dumps(universe_of_names)"
      ]
    }
  ],
  "metadata": {
    "colab": {
      "provenance": []
    },
    "interpreter": {
      "hash": "45150093197569bb3a58481dcd32cd1adb45462fa3448719e8ac38ada6166aca"
    },
    "kernelspec": {
      "display_name": "Python 3",
      "name": "python3"
    },
    "language_info": {
      "codemirror_mode": {
        "name": "ipython",
        "version": 3
      },
      "file_extension": ".py",
      "mimetype": "text/x-python",
      "name": "python",
      "nbconvert_exporter": "python",
      "pygments_lexer": "ipython3",
      "version": "3.6.10"
    }
  },
  "nbformat": 4,
  "nbformat_minor": 0
}